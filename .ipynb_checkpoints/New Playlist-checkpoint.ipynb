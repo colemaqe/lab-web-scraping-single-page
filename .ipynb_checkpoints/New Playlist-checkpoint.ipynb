{
 "cells": [
  {
   "cell_type": "code",
   "execution_count": null,
   "id": "fa27c403",
   "metadata": {},
   "outputs": [],
   "source": []
  },
  {
   "cell_type": "code",
   "execution_count": 1,
   "id": "ecf74131",
   "metadata": {},
   "outputs": [],
   "source": [
    "import spotipy\n",
    "from spotipy.oauth2 import SpotifyClientCredentials"
   ]
  },
  {
   "cell_type": "code",
   "execution_count": 2,
   "id": "622d24c1",
   "metadata": {},
   "outputs": [],
   "source": [
    "secrets_file = open(\"secrets.txt\",\"r\")"
   ]
  },
  {
   "cell_type": "code",
   "execution_count": 3,
   "id": "3e949d9e",
   "metadata": {},
   "outputs": [],
   "source": [
    "string = secrets_file.read()"
   ]
  },
  {
   "cell_type": "code",
   "execution_count": 4,
   "id": "68d45e09",
   "metadata": {},
   "outputs": [],
   "source": [
    "secrets_dict={}\n",
    "for line in string.split('\\n'):\n",
    "    if len(line) > 0:\n",
    "        secrets_dict[line.split(':')[0]]=line.split(':')[1]"
   ]
  },
  {
   "cell_type": "code",
   "execution_count": 5,
   "id": "f2ad222e",
   "metadata": {},
   "outputs": [],
   "source": [
    "import spotipy\n",
    "from spotipy.oauth2 import SpotifyClientCredentials\n",
    "\n",
    "#Initialize SpotiPy with user credentials\n",
    "sp = spotipy.Spotify(auth_manager=SpotifyClientCredentials(client_id=secrets_dict['cid'],\n",
    "                                                           client_secret=secrets_dict['csecret']))"
   ]
  },
  {
   "cell_type": "code",
   "execution_count": 6,
   "id": "61b38dcb",
   "metadata": {},
   "outputs": [],
   "source": [
    "from random import randint\n",
    "from time import sleep\n",
    "\n",
    "def get_playlist_tracks(playlist_id):\n",
    "    results = sp.user_playlist_tracks(\"spotify\",playlist_id)\n",
    "    tracks = results['items']\n",
    "    while results['next']!=None:\n",
    "        results = sp.next(results)\n",
    "        tracks = tracks + results['items']\n",
    "        sleep(randint(1,3))\n",
    "    return tracks"
   ]
  },
  {
   "cell_type": "markdown",
   "id": "1c89adbd",
   "metadata": {},
   "source": [
    "# Soca & Dancehall Playlist 2"
   ]
  },
  {
   "cell_type": "code",
   "execution_count": 7,
   "id": "a67098d3",
   "metadata": {},
   "outputs": [
    {
     "name": "stdout",
     "output_type": "stream",
     "text": [
      "CPU times: total: 109 ms\n",
      "Wall time: 12.2 s\n"
     ]
    },
    {
     "data": {
      "text/plain": [
       "463"
      ]
     },
     "execution_count": 7,
     "metadata": {},
     "output_type": "execute_result"
    }
   ],
   "source": [
    "%%time\n",
    "soca_playlist2 = get_playlist_tracks(\"4AZjyrUCG6uAxS1VIxUMGr\")\n",
    "len(soca_playlist2)"
   ]
  },
  {
   "cell_type": "code",
   "execution_count": 8,
   "id": "a8ef2e8f",
   "metadata": {},
   "outputs": [],
   "source": [
    "soca_artist = []\n",
    "soca_feature1 = []\n",
    "soca_feature2 = []\n",
    "\n",
    "for a in range(len(soca_playlist2)-1):\n",
    "    insert = soca_playlist2[a]['track']['artists'][0]['name']\n",
    "    soca_artist.append(insert)\n",
    "    if len(soca_playlist2[a]['track']['artists']) > 1:\n",
    "        soca_feature1.append(soca_playlist2[a]['track']['artists'][1]['name'])\n",
    "    if len(soca_playlist2[a]['track']['artists']) > 2:\n",
    "        soca_feature2.append(soca_playlist2[a]['track']['artists'][2]['name'])   \n",
    "        "
   ]
  },
  {
   "cell_type": "code",
   "execution_count": 9,
   "id": "34203f63",
   "metadata": {},
   "outputs": [],
   "source": [
    "soca_track = []\n",
    "\n",
    "for a in range(len(soca_playlist2)-1):\n",
    "    adding = soca_playlist2[a]['track']['name']\n",
    "    soca_track.append(adding)"
   ]
  },
  {
   "cell_type": "code",
   "execution_count": 10,
   "id": "fdf72350",
   "metadata": {},
   "outputs": [],
   "source": [
    "soca_uri = []\n",
    "\n",
    "for a in range(len(soca_playlist2)-1):\n",
    "    adding = soca_playlist2[a]['track']['uri']\n",
    "    soca_uri.append(adding)"
   ]
  },
  {
   "cell_type": "code",
   "execution_count": null,
   "id": "fa1eb7f0",
   "metadata": {},
   "outputs": [],
   "source": []
  },
  {
   "cell_type": "markdown",
   "id": "fcf27759",
   "metadata": {},
   "source": [
    "# Massive Playlist"
   ]
  },
  {
   "cell_type": "code",
   "execution_count": 11,
   "id": "0b42e3f8",
   "metadata": {},
   "outputs": [
    {
     "name": "stdout",
     "output_type": "stream",
     "text": [
      "CPU times: total: 1.78 s\n",
      "Wall time: 4min 6s\n"
     ]
    },
    {
     "data": {
      "text/plain": [
       "10000"
      ]
     },
     "execution_count": 11,
     "metadata": {},
     "output_type": "execute_result"
    }
   ],
   "source": [
    "%%time\n",
    "massive_playlist = get_playlist_tracks(\"5S8SJdl1BDc0ugpkEvFsIL\")\n",
    "len(massive_playlist)"
   ]
  },
  {
   "cell_type": "code",
   "execution_count": 12,
   "id": "a5373e60",
   "metadata": {},
   "outputs": [],
   "source": [
    "massive_artist = []\n",
    "massive_feature1 = []\n",
    "massive_feature2 = []\n",
    "\n",
    "for a in range(len(massive_playlist)-1):\n",
    "    insert = massive_playlist[a]['track']['artists'][0]['name']\n",
    "    massive_artist.append(insert)\n",
    "    if len(massive_playlist[a]['track']['artists']) > 1:\n",
    "        massive_feature1.append(massive_playlist[a]['track']['artists'][1]['name'])\n",
    "    if len(massive_playlist[a]['track']['artists']) > 2:\n",
    "        massive_feature2.append(massive_playlist[a]['track']['artists'][2]['name']) "
   ]
  },
  {
   "cell_type": "code",
   "execution_count": 13,
   "id": "ec220123",
   "metadata": {},
   "outputs": [],
   "source": [
    "massive_track = []\n",
    "\n",
    "for a in range(len(massive_playlist)-1):\n",
    "    adding = massive_playlist[a]['track']['name']\n",
    "    massive_track.append(adding)"
   ]
  },
  {
   "cell_type": "code",
   "execution_count": 14,
   "id": "8135940c",
   "metadata": {},
   "outputs": [],
   "source": [
    "massive_uri = []\n",
    "\n",
    "for a in range(len(massive_playlist)-1):\n",
    "    adding = massive_playlist[a]['track']['uri']\n",
    "    massive_uri.append(adding)"
   ]
  },
  {
   "cell_type": "code",
   "execution_count": null,
   "id": "4839c4fe",
   "metadata": {},
   "outputs": [],
   "source": []
  },
  {
   "cell_type": "markdown",
   "id": "d0ca51be",
   "metadata": {},
   "source": [
    "# Decades Mix"
   ]
  },
  {
   "cell_type": "code",
   "execution_count": 15,
   "id": "772e5cb7",
   "metadata": {},
   "outputs": [
    {
     "name": "stdout",
     "output_type": "stream",
     "text": [
      "CPU times: total: 78.1 ms\n",
      "Wall time: 11 s\n"
     ]
    },
    {
     "data": {
      "text/plain": [
       "502"
      ]
     },
     "execution_count": 15,
     "metadata": {},
     "output_type": "execute_result"
    }
   ],
   "source": [
    "%%time\n",
    "decades_mix = get_playlist_tracks(\"3Pfh9gIWGYYSNEpJbAR6mZ\")\n",
    "len(decades_mix)"
   ]
  },
  {
   "cell_type": "code",
   "execution_count": 16,
   "id": "ff566e9c",
   "metadata": {},
   "outputs": [],
   "source": [
    "decades_artist = []\n",
    "decades_feature1 = []\n",
    "decades_feature2 = []\n",
    "\n",
    "for a in range(len(decades_mix)-1):\n",
    "    insert = decades_mix[a]['track']['artists'][0]['name']\n",
    "    decades_artist.append(insert)\n",
    "    if len(decades_mix[a]['track']['artists']) > 1:\n",
    "        decades_feature1.append(decades_mix[a]['track']['artists'][1]['name'])\n",
    "    if len(decades_mix[a]['track']['artists']) > 2:\n",
    "        decades_feature2.append(decades_mix[a]['track']['artists'][2]['name']) "
   ]
  },
  {
   "cell_type": "code",
   "execution_count": 17,
   "id": "9ff8e01c",
   "metadata": {},
   "outputs": [],
   "source": [
    "decades_track = []\n",
    "\n",
    "for a in range(len(decades_mix)-1):\n",
    "    adding = decades_mix[a]['track']['name']\n",
    "    decades_track.append(adding)"
   ]
  },
  {
   "cell_type": "code",
   "execution_count": 18,
   "id": "0076b92b",
   "metadata": {},
   "outputs": [],
   "source": [
    "decades_uri = []\n",
    "\n",
    "for a in range(len(decades_mix)-1):\n",
    "    adding = decades_mix[a]['track']['uri']\n",
    "    decades_uri.append(adding)"
   ]
  },
  {
   "cell_type": "code",
   "execution_count": null,
   "id": "262e6eb7",
   "metadata": {},
   "outputs": [],
   "source": []
  },
  {
   "cell_type": "markdown",
   "id": "ecfa56b9",
   "metadata": {},
   "source": [
    "# Dancehall"
   ]
  },
  {
   "cell_type": "code",
   "execution_count": 19,
   "id": "f2badd45",
   "metadata": {},
   "outputs": [
    {
     "name": "stdout",
     "output_type": "stream",
     "text": [
      "CPU times: total: 31.2 ms\n",
      "Wall time: 6.17 s\n"
     ]
    },
    {
     "data": {
      "text/plain": [
       "221"
      ]
     },
     "execution_count": 19,
     "metadata": {},
     "output_type": "execute_result"
    }
   ],
   "source": [
    "%%time\n",
    "dancehall = get_playlist_tracks(\"6eWJiWAVAaSIkFkeKHjTHv\")\n",
    "len(dancehall)"
   ]
  },
  {
   "cell_type": "code",
   "execution_count": 20,
   "id": "91fdc4b7",
   "metadata": {},
   "outputs": [],
   "source": [
    "dancehall_artist = []\n",
    "dancehall_feature1 = []\n",
    "dancehall_feature2 = []\n",
    "\n",
    "for a in range(len(dancehall)-1):\n",
    "    insert = dancehall[a]['track']['artists'][0]['name']\n",
    "    dancehall_artist.append(insert)\n",
    "    if len(dancehall[a]['track']['artists']) > 1:\n",
    "        dancehall_feature1.append(dancehall[a]['track']['artists'][1]['name'])\n",
    "    if len(dancehall[a]['track']['artists']) > 2:\n",
    "        dancehall_feature2.append(dancehall[a]['track']['artists'][2]['name']) "
   ]
  },
  {
   "cell_type": "code",
   "execution_count": 21,
   "id": "909eb6c5",
   "metadata": {},
   "outputs": [],
   "source": [
    "dancehall_track = []\n",
    "\n",
    "for a in range(len(dancehall)-1):\n",
    "    adding = dancehall[a]['track']['name']\n",
    "    dancehall_track.append(adding)"
   ]
  },
  {
   "cell_type": "code",
   "execution_count": 22,
   "id": "7ef38073",
   "metadata": {},
   "outputs": [],
   "source": [
    "dancehall_uri = []\n",
    "\n",
    "for a in range(len(dancehall)-1):\n",
    "    adding = dancehall[a]['track']['uri']\n",
    "    dancehall_uri.append(adding)"
   ]
  },
  {
   "cell_type": "code",
   "execution_count": null,
   "id": "c82d377c",
   "metadata": {},
   "outputs": [],
   "source": []
  },
  {
   "cell_type": "code",
   "execution_count": null,
   "id": "a35fc499",
   "metadata": {},
   "outputs": [],
   "source": []
  },
  {
   "cell_type": "markdown",
   "id": "3f2b90e7",
   "metadata": {},
   "source": [
    "# 70s R&B"
   ]
  },
  {
   "cell_type": "code",
   "execution_count": 23,
   "id": "130f3d61",
   "metadata": {},
   "outputs": [
    {
     "name": "stdout",
     "output_type": "stream",
     "text": [
      "CPU times: total: 31.2 ms\n",
      "Wall time: 5.17 s\n"
     ]
    },
    {
     "data": {
      "text/plain": [
       "221"
      ]
     },
     "execution_count": 23,
     "metadata": {},
     "output_type": "execute_result"
    }
   ],
   "source": [
    "%%time\n",
    "seventies_rb = get_playlist_tracks(\"6eWJiWAVAaSIkFkeKHjTHv\")\n",
    "len(seventies_rb)"
   ]
  },
  {
   "cell_type": "code",
   "execution_count": 24,
   "id": "4d8171e7",
   "metadata": {},
   "outputs": [],
   "source": [
    "seventies_artist = []\n",
    "seventies_feature1 = []\n",
    "seventies_feature2 = []\n",
    "\n",
    "for a in range(len(seventies_rb)-1):\n",
    "    insert = seventies_rb[a]['track']['artists'][0]['name']\n",
    "    seventies_artist.append(insert)\n",
    "    if len(seventies_rb[a]['track']['artists']) > 1:\n",
    "        seventies_feature1.append(seventies_rb[a]['track']['artists'][1]['name'])\n",
    "    if len(seventies_rb[a]['track']['artists']) > 2:\n",
    "        seventies_feature2.append(seventies_rb[a]['track']['artists'][2]['name']) "
   ]
  },
  {
   "cell_type": "code",
   "execution_count": 25,
   "id": "eae717c4",
   "metadata": {},
   "outputs": [],
   "source": [
    "seventies_track = []\n",
    "\n",
    "for a in range(len(seventies_rb)-1):\n",
    "    adding = seventies_rb[a]['track']['name']\n",
    "    seventies_track.append(adding)"
   ]
  },
  {
   "cell_type": "code",
   "execution_count": 26,
   "id": "10e63fb9",
   "metadata": {},
   "outputs": [],
   "source": [
    "seventies_uri = []\n",
    "\n",
    "for a in range(len(seventies_rb)-1):\n",
    "    adding = seventies_rb[a]['track']['uri']\n",
    "    seventies_uri.append(adding)"
   ]
  },
  {
   "cell_type": "code",
   "execution_count": null,
   "id": "0628d92c",
   "metadata": {},
   "outputs": [],
   "source": []
  },
  {
   "cell_type": "markdown",
   "id": "ab4095e9",
   "metadata": {},
   "source": [
    "# 80s R&B"
   ]
  },
  {
   "cell_type": "code",
   "execution_count": 27,
   "id": "fa077c78",
   "metadata": {},
   "outputs": [
    {
     "name": "stdout",
     "output_type": "stream",
     "text": [
      "CPU times: total: 46.9 ms\n",
      "Wall time: 7.32 s\n"
     ]
    },
    {
     "data": {
      "text/plain": [
       "336"
      ]
     },
     "execution_count": 27,
     "metadata": {},
     "output_type": "execute_result"
    }
   ],
   "source": [
    "%%time\n",
    "eighties_rb = get_playlist_tracks(\"4n20EfwxAvxAXiV5GEDjzh\")\n",
    "len(eighties_rb)"
   ]
  },
  {
   "cell_type": "code",
   "execution_count": 28,
   "id": "d835d5cc",
   "metadata": {},
   "outputs": [],
   "source": [
    "eighties_artist = []\n",
    "eighties_feature1 = []\n",
    "eighties_feature2 = []\n",
    "\n",
    "for a in range(len(eighties_rb)-1):\n",
    "    insert = eighties_rb[a]['track']['artists'][0]['name']\n",
    "    eighties_artist.append(insert)\n",
    "    if len(eighties_rb[a]['track']['artists']) > 1:\n",
    "        eighties_feature1.append(eighties_rb[a]['track']['artists'][1]['name'])\n",
    "    if len(eighties_rb[a]['track']['artists']) > 2:\n",
    "        eighties_feature2.append(eighties_rb[a]['track']['artists'][2]['name']) "
   ]
  },
  {
   "cell_type": "code",
   "execution_count": 31,
   "id": "a3903651",
   "metadata": {},
   "outputs": [],
   "source": [
    "eighties_track = []\n",
    "\n",
    "for a in range(len(eighties_rb)-1):\n",
    "    adding = eighties_rb[a]['track']['name']\n",
    "    eighties_track.append(adding)"
   ]
  },
  {
   "cell_type": "code",
   "execution_count": 32,
   "id": "ee64bfcc",
   "metadata": {},
   "outputs": [],
   "source": [
    "eighties_uri = []\n",
    "\n",
    "for a in range(len(eighties_rb)-1):\n",
    "    adding = eighties_rb[a]['track']['uri']\n",
    "    eighties_uri.append(adding)"
   ]
  },
  {
   "cell_type": "code",
   "execution_count": null,
   "id": "38e05aad",
   "metadata": {},
   "outputs": [],
   "source": []
  },
  {
   "cell_type": "markdown",
   "id": "41fab1ce",
   "metadata": {},
   "source": [
    "# 90s R&B"
   ]
  },
  {
   "cell_type": "code",
   "execution_count": 33,
   "id": "9c5d8326",
   "metadata": {},
   "outputs": [
    {
     "name": "stdout",
     "output_type": "stream",
     "text": [
      "CPU times: total: 62.5 ms\n",
      "Wall time: 1.88 s\n"
     ]
    },
    {
     "data": {
      "text/plain": [
       "137"
      ]
     },
     "execution_count": 33,
     "metadata": {},
     "output_type": "execute_result"
    }
   ],
   "source": [
    "%%time\n",
    "nineties_rb = get_playlist_tracks(\"1kMyrcNKPws587cSAOjyDP\")\n",
    "len(nineties_rb)"
   ]
  },
  {
   "cell_type": "code",
   "execution_count": 34,
   "id": "e9fb764d",
   "metadata": {},
   "outputs": [
    {
     "data": {
      "text/plain": [
       "'spotify:track:0YwUJOHKYxlm5gVfIkl8Ym'"
      ]
     },
     "execution_count": 34,
     "metadata": {},
     "output_type": "execute_result"
    }
   ],
   "source": [
    "nineties_rb[0]['track']['uri']"
   ]
  },
  {
   "cell_type": "code",
   "execution_count": 35,
   "id": "5debedcf",
   "metadata": {},
   "outputs": [],
   "source": [
    "nineties_artist = []\n",
    "nineties_feature1 = []\n",
    "nineties_feature2 = []\n",
    "\n",
    "for a in range(len(nineties_rb)-1):\n",
    "    insert = nineties_rb[a]['track']['artists'][0]['name']\n",
    "    nineties_artist.append(insert)\n",
    "    if len(nineties_rb[a]['track']['artists']) > 1:\n",
    "        nineties_feature1.append(nineties_rb[a]['track']['artists'][1]['name'])\n",
    "    if len(nineties_rb[a]['track']['artists']) > 2:\n",
    "        nineties_feature2.append(nineties_rb[a]['track']['artists'][2]['name'])   \n",
    "        \n",
    "        \n"
   ]
  },
  {
   "cell_type": "code",
   "execution_count": 37,
   "id": "e16a7e5f",
   "metadata": {},
   "outputs": [],
   "source": [
    "nineties_track = []\n",
    "\n",
    "for a in range(len(nineties_rb)-1):\n",
    "    adding = nineties_rb[a]['track']['name']\n",
    "    nineties_track.append(adding)\n"
   ]
  },
  {
   "cell_type": "code",
   "execution_count": 39,
   "id": "eba255c0",
   "metadata": {},
   "outputs": [],
   "source": [
    "nineties_uri = []\n",
    "\n",
    "for a in range(len(nineties_rb)-1):\n",
    "    adding = nineties_rb[a]['track']['uri']\n",
    "    nineties_uri.append(adding)"
   ]
  },
  {
   "cell_type": "code",
   "execution_count": 40,
   "id": "fbb65149",
   "metadata": {},
   "outputs": [
    {
     "data": {
      "text/plain": [
       "'spotify:track:0YwUJOHKYxlm5gVfIkl8Ym'"
      ]
     },
     "execution_count": 40,
     "metadata": {},
     "output_type": "execute_result"
    }
   ],
   "source": [
    "nineties_uri[0]"
   ]
  },
  {
   "cell_type": "code",
   "execution_count": 41,
   "id": "bc4fb843",
   "metadata": {},
   "outputs": [
    {
     "data": {
      "text/plain": [
       "[{'danceability': 0.696,\n",
       "  'energy': 0.49,\n",
       "  'key': 6,\n",
       "  'loudness': -6.631,\n",
       "  'mode': 0,\n",
       "  'speechiness': 0.0347,\n",
       "  'acousticness': 0.155,\n",
       "  'instrumentalness': 0.000351,\n",
       "  'liveness': 0.0563,\n",
       "  'valence': 0.557,\n",
       "  'tempo': 179.825,\n",
       "  'type': 'audio_features',\n",
       "  'id': '0YwUJOHKYxlm5gVfIkl8Ym',\n",
       "  'uri': 'spotify:track:0YwUJOHKYxlm5gVfIkl8Ym',\n",
       "  'track_href': 'https://api.spotify.com/v1/tracks/0YwUJOHKYxlm5gVfIkl8Ym',\n",
       "  'analysis_url': 'https://api.spotify.com/v1/audio-analysis/0YwUJOHKYxlm5gVfIkl8Ym',\n",
       "  'duration_ms': 288840,\n",
       "  'time_signature': 4}]"
      ]
     },
     "execution_count": 41,
     "metadata": {},
     "output_type": "execute_result"
    }
   ],
   "source": [
    "sp.audio_features(nineties_uri[0])"
   ]
  },
  {
   "cell_type": "code",
   "execution_count": null,
   "id": "ffe9dc31",
   "metadata": {},
   "outputs": [],
   "source": [
    "# squish_uri = []\n",
    "\n",
    "# for i in range(len(nineties_uri)):\n",
    "#    squish_uri = sp.audio_features(nineties_uri[i])\n",
    "\n"
   ]
  },
  {
   "cell_type": "code",
   "execution_count": null,
   "id": "f6396eda",
   "metadata": {},
   "outputs": [],
   "source": []
  },
  {
   "cell_type": "code",
   "execution_count": null,
   "id": "9f7b408a",
   "metadata": {},
   "outputs": [],
   "source": []
  },
  {
   "cell_type": "code",
   "execution_count": null,
   "id": "38c170c4",
   "metadata": {},
   "outputs": [],
   "source": [
    "# dict(uri_rheine)\n",
    "# pd.DataFrame(dict(uri_rheine))\n",
    "# uri_df = pd.DataFrame(dict(uri_rheine)).transpose()\n",
    "\n",
    "# uri_df"
   ]
  },
  {
   "cell_type": "code",
   "execution_count": null,
   "id": "6be6c820",
   "metadata": {},
   "outputs": [],
   "source": []
  },
  {
   "cell_type": "code",
   "execution_count": null,
   "id": "4dcb9fd2",
   "metadata": {},
   "outputs": [],
   "source": [
    "# Ignore below"
   ]
  },
  {
   "cell_type": "code",
   "execution_count": null,
   "id": "11af36cc",
   "metadata": {},
   "outputs": [],
   "source": [
    "def features(tracks):\n",
    "    \n",
    "    song_features = {}\n",
    "    \n",
    "    for i in range(10):\n",
    "        song_features[tracks[i]['track']['id']] = sp.audio_features(tracks[i][\"track\"][\"uri\"])\n",
    "    \n",
    "    return song_features\n"
   ]
  },
  {
   "cell_type": "code",
   "execution_count": null,
   "id": "4c0664ef",
   "metadata": {},
   "outputs": [],
   "source": []
  },
  {
   "cell_type": "code",
   "execution_count": null,
   "id": "8b6aa469",
   "metadata": {},
   "outputs": [],
   "source": []
  }
 ],
 "metadata": {
  "kernelspec": {
   "display_name": "Python 3 (ipykernel)",
   "language": "python",
   "name": "python3"
  },
  "language_info": {
   "codemirror_mode": {
    "name": "ipython",
    "version": 3
   },
   "file_extension": ".py",
   "mimetype": "text/x-python",
   "name": "python",
   "nbconvert_exporter": "python",
   "pygments_lexer": "ipython3",
   "version": "3.9.12"
  }
 },
 "nbformat": 4,
 "nbformat_minor": 5
}
